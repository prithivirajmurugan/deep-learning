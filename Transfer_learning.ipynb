{
  "nbformat": 4,
  "nbformat_minor": 0,
  "metadata": {
    "kernelspec": {
      "display_name": "Python 3",
      "language": "python",
      "name": "python3"
    },
    "language_info": {
      "codemirror_mode": {
        "name": "ipython",
        "version": 3
      },
      "file_extension": ".py",
      "mimetype": "text/x-python",
      "name": "python",
      "nbconvert_exporter": "python",
      "pygments_lexer": "ipython3",
      "version": "3.6.4"
    },
    "papermill": {
      "duration": null,
      "end_time": null,
      "environment_variables": {},
      "exception": null,
      "input_path": "__notebook__.ipynb",
      "output_path": "__notebook__.ipynb",
      "parameters": {},
      "start_time": "2021-01-20T11:16:54.582717",
      "version": "2.1.0"
    },
    "colab": {
      "name": "Transfer_learning.ipynb",
      "provenance": [],
      "include_colab_link": true
    },
    "accelerator": "TPU"
  },
  "cells": [
    {
      "cell_type": "markdown",
      "metadata": {
        "id": "view-in-github",
        "colab_type": "text"
      },
      "source": [
        "<a href=\"https://colab.research.google.com/github/prithivirajmurugan/deep-learning/blob/main/Transfer_learning.ipynb\" target=\"_parent\"><img src=\"https://colab.research.google.com/assets/colab-badge.svg\" alt=\"Open In Colab\"/></a>"
      ]
    },
    {
      "cell_type": "code",
      "metadata": {
        "execution": {
          "iopub.execute_input": "2021-01-20T11:17:01.700056Z",
          "iopub.status.busy": "2021-01-20T11:17:01.698962Z",
          "iopub.status.idle": "2021-01-20T11:17:01.701861Z",
          "shell.execute_reply": "2021-01-20T11:17:01.701004Z"
        },
        "papermill": {
          "duration": 0.065262,
          "end_time": "2021-01-20T11:17:01.701996",
          "exception": false,
          "start_time": "2021-01-20T11:17:01.636734",
          "status": "completed"
        },
        "tags": [],
        "id": "RpC-e6zv1RQi"
      },
      "source": [
        "import glob\n",
        "import numpy as np\n",
        "import os\n",
        "import shutil\n",
        "\n",
        "\n",
        "np.random.seed(42)"
      ],
      "execution_count": 49,
      "outputs": []
    },
    {
      "cell_type": "code",
      "metadata": {
        "colab": {
          "base_uri": "https://localhost:8080/"
        },
        "id": "CZkFZInB3r4P",
        "outputId": "524c2d9a-4fb9-46b7-d078-1ae81aea0753"
      },
      "source": [
        "!mkdir ~/.kaggle\r\n",
        "!touch ~/.kaggle/kaggle.json\r\n",
        "\r\n",
        "api_token = {\"username\":\"prithivist\",\"key\":\"b45c54ae12c7eb24c91fa202d3f23f38\"}\r\n",
        "\r\n",
        "import json\r\n",
        "\r\n",
        "with open('/root/.kaggle/kaggle.json', 'w') as file:\r\n",
        "    json.dump(api_token, file)\r\n",
        "\r\n",
        "!chmod 600 ~/.kaggle/kaggle.json"
      ],
      "execution_count": 50,
      "outputs": [
        {
          "output_type": "stream",
          "text": [
            "mkdir: cannot create directory ‘/root/.kaggle’: File exists\n"
          ],
          "name": "stdout"
        }
      ]
    },
    {
      "cell_type": "code",
      "metadata": {
        "colab": {
          "base_uri": "https://localhost:8080/"
        },
        "id": "8wUYrbdB25FN",
        "outputId": "731e2895-d82e-4ee2-854d-d43f06000d25"
      },
      "source": [
        "!kaggle competitions download -c dogs-vs-cats"
      ],
      "execution_count": 51,
      "outputs": [
        {
          "output_type": "stream",
          "text": [
            "Warning: Looks like you're using an outdated API Version, please consider updating (server 1.5.10 / client 1.5.4)\n",
            "sampleSubmission.csv: Skipping, found more recently modified local copy (use --force to force download)\n",
            "test1.zip: Skipping, found more recently modified local copy (use --force to force download)\n",
            "train.zip: Skipping, found more recently modified local copy (use --force to force download)\n"
          ],
          "name": "stdout"
        }
      ]
    },
    {
      "cell_type": "code",
      "metadata": {
        "execution": {
          "iopub.execute_input": "2021-01-20T11:17:01.814725Z",
          "iopub.status.busy": "2021-01-20T11:17:01.813758Z",
          "iopub.status.idle": "2021-01-20T11:17:17.490294Z",
          "shell.execute_reply": "2021-01-20T11:17:17.491104Z"
        },
        "papermill": {
          "duration": 15.73525,
          "end_time": "2021-01-20T11:17:17.491291",
          "exception": false,
          "start_time": "2021-01-20T11:17:01.756041",
          "status": "completed"
        },
        "tags": [],
        "colab": {
          "base_uri": "https://localhost:8080/"
        },
        "id": "oGv_AZbx1RQw",
        "outputId": "0663b5bf-ebcd-4069-b490-39867696efd1"
      },
      "source": [
        "!unzip \"./train.zip\""
      ],
      "execution_count": 52,
      "outputs": [
        {
          "output_type": "stream",
          "text": [
            "Archive:  ./train.zip\n",
            "caution: filename not matched:  -A\n"
          ],
          "name": "stdout"
        }
      ]
    },
    {
      "cell_type": "code",
      "metadata": {
        "execution": {
          "iopub.execute_input": "2021-01-20T11:17:17.890469Z",
          "iopub.status.busy": "2021-01-20T11:17:17.889182Z",
          "iopub.status.idle": "2021-01-20T11:17:17.989219Z",
          "shell.execute_reply": "2021-01-20T11:17:17.990106Z"
        },
        "papermill": {
          "duration": 0.29037,
          "end_time": "2021-01-20T11:17:17.990548",
          "exception": false,
          "start_time": "2021-01-20T11:17:17.700178",
          "status": "completed"
        },
        "tags": [],
        "colab": {
          "base_uri": "https://localhost:8080/"
        },
        "id": "HRdLBhQ-1RQ2",
        "outputId": "1fe4f3ee-5b37-4619-e1cd-b6cdfcfa84a0"
      },
      "source": [
        "\n",
        "files = glob.glob('train/*.jpg') #to get all filenames \n",
        "\n",
        "cat_files = [fn for fn in files if 'cat' in fn]\n",
        "dog_files = [fn for fn in files if 'dog' in fn]\n",
        "len(cat_files),len(dog_files)"
      ],
      "execution_count": 53,
      "outputs": [
        {
          "output_type": "execute_result",
          "data": {
            "text/plain": [
              "(12500, 12500)"
            ]
          },
          "metadata": {
            "tags": []
          },
          "execution_count": 53
        }
      ]
    },
    {
      "cell_type": "code",
      "metadata": {
        "execution": {
          "iopub.execute_input": "2021-01-20T11:17:18.342744Z",
          "iopub.status.busy": "2021-01-20T11:17:18.342091Z",
          "iopub.status.idle": "2021-01-20T11:17:18.378824Z",
          "shell.execute_reply": "2021-01-20T11:17:18.379404Z"
        },
        "papermill": {
          "duration": 0.202387,
          "end_time": "2021-01-20T11:17:18.379551",
          "exception": false,
          "start_time": "2021-01-20T11:17:18.177164",
          "status": "completed"
        },
        "tags": [],
        "colab": {
          "base_uri": "https://localhost:8080/"
        },
        "id": "KGB3t03_1RQ3",
        "outputId": "e5552ccf-17e6-48cc-f151-c881379041d9"
      },
      "source": [
        "#Train dataset\n",
        "cat_train = np.random.choice(cat_files,size=1500,replace=False)\n",
        "dog_train = np.random.choice(dog_files,size=1500,replace=False)\n",
        "cat_files = list(set(cat_files)-set(cat_train))\n",
        "dog_files = list(set(cat_files)-set(dog_train))\n",
        "#Validation dataset\n",
        "cat_val = np.random.choice(cat_files,size=500,replace=False)\n",
        "dog_val = np.random.choice(dog_files,size=500,replace = False)\n",
        "cat_files = list(set(cat_files)-set(cat_val))\n",
        "dog_files = list(set(dog_files)-set(dog_val))\n",
        "\n",
        "#test dataset\n",
        "cat_test = np.random.choice(cat_files, size=500, replace=False)\n",
        "dog_test = np.random.choice(dog_files, size=500, replace=False)\n",
        "\n",
        "print('Cat datasets:', cat_train.shape,cat_val.shape,cat_test.shape)\n",
        "print('Dog datasets:', dog_train.shape,dog_val.shape,dog_test.shape)"
      ],
      "execution_count": 54,
      "outputs": [
        {
          "output_type": "stream",
          "text": [
            "Cat datasets: (1500,) (500,) (500,)\n",
            "Dog datasets: (1500,) (500,) (500,)\n"
          ],
          "name": "stdout"
        }
      ]
    },
    {
      "cell_type": "code",
      "metadata": {
        "execution": {
          "iopub.execute_input": "2021-01-20T11:17:18.738417Z",
          "iopub.status.busy": "2021-01-20T11:17:18.729974Z",
          "iopub.status.idle": "2021-01-20T11:17:19.438374Z",
          "shell.execute_reply": "2021-01-20T11:17:19.439210Z"
        },
        "papermill": {
          "duration": 0.894265,
          "end_time": "2021-01-20T11:17:19.439455",
          "exception": false,
          "start_time": "2021-01-20T11:17:18.545190",
          "status": "completed"
        },
        "tags": [],
        "id": "iZS7sWfN1RQ4"
      },
      "source": [
        "#Writing to main memory\n",
        "\n",
        "train_dir = \"train_dir\"\n",
        "val_dir = \"val_dir\"\n",
        "test_dir = \"test_dir\"\n",
        "\n",
        "train_files = np.concatenate([cat_train,dog_train])\n",
        "validate_files = np.concatenate([cat_val,dog_val])\n",
        "test_files = np.concatenate([cat_test,dog_test])\n",
        "\n",
        "\n",
        "os.mkdir(train_dir) if not os.path.isdir(train_dir) else None\n",
        "os.mkdir(val_dir) if not os.path.isdir(val_dir) else None\n",
        "os.mkdir(test_dir) if not os.path.isdir(test_dir) else None\n",
        "\n",
        "for fn in train_files:\n",
        "    shutil.copy(fn,train_dir)\n",
        "\n",
        "for fn in validate_files:\n",
        "    shutil.copy(fn,val_dir)\n",
        "    \n",
        "for fn in validate_files:\n",
        "    shutil.copy(fn,test_dir)"
      ],
      "execution_count": 55,
      "outputs": []
    },
    {
      "cell_type": "code",
      "metadata": {
        "execution": {
          "iopub.execute_input": "2021-01-20T11:17:19.814201Z",
          "iopub.status.busy": "2021-01-20T11:17:19.813271Z",
          "iopub.status.idle": "2021-01-20T11:17:31.967525Z",
          "shell.execute_reply": "2021-01-20T11:17:31.966732Z"
        },
        "papermill": {
          "duration": 12.339759,
          "end_time": "2021-01-20T11:17:31.967680",
          "exception": false,
          "start_time": "2021-01-20T11:17:19.627921",
          "status": "completed"
        },
        "tags": [],
        "id": "zqqY81i31RQ4"
      },
      "source": [
        "#Preparing datasets\n",
        "\n",
        "import matplotlib.pyplot as plt\n",
        "from tensorflow.keras.preprocessing.image import ImageDataGenerator, load_img, img_to_array, array_to_img\n",
        "\n",
        "%matplotlib inline"
      ],
      "execution_count": 56,
      "outputs": []
    },
    {
      "cell_type": "code",
      "metadata": {
        "execution": {
          "iopub.execute_input": "2021-01-20T11:17:32.544094Z",
          "iopub.status.busy": "2021-01-20T11:17:32.542788Z",
          "iopub.status.idle": "2021-01-20T11:17:47.195665Z",
          "shell.execute_reply": "2021-01-20T11:17:47.194464Z"
        },
        "papermill": {
          "duration": 14.945614,
          "end_time": "2021-01-20T11:17:47.195814",
          "exception": false,
          "start_time": "2021-01-20T11:17:32.250200",
          "status": "completed"
        },
        "tags": [],
        "colab": {
          "base_uri": "https://localhost:8080/"
        },
        "id": "LERMAOeL1RQ4",
        "outputId": "d4e74acb-0bb4-4e68-eb50-810a6788d051"
      },
      "source": [
        "IMG_DIM = (150,150)\n",
        "\n",
        "train_files = glob.glob('train_dir/*.jpg')\n",
        "\n",
        "train_imgs = [img_to_array(load_img(img,target_size=IMG_DIM)) for img in train_files]\n",
        "\n",
        "train_imgs = np.array(train_imgs)\n",
        "train_labels=[fn.split(\"/\")[1].split(\".\")[0].strip() for fn in train_files]\n",
        "\n",
        "validation_files = glob.glob('val_dir/*.jpg')\n",
        "validation_imgs = [img_to_array(load_img(img,target_size=IMG_DIM)) for img in validation_files]\n",
        "validation_imgs = np.array(validation_imgs)\n",
        "validation_labels=[fn.split(\"/\")[1].split(\".\")[0].strip() for fn in validation_files]\n",
        "print('Train dataset shape:', train_imgs.shape, \n",
        "      '\\tValidation dataset shape:', validation_imgs.shape)"
      ],
      "execution_count": 57,
      "outputs": [
        {
          "output_type": "stream",
          "text": [
            "Train dataset shape: (3000, 150, 150, 3) \tValidation dataset shape: (974, 150, 150, 3)\n"
          ],
          "name": "stdout"
        }
      ]
    },
    {
      "cell_type": "code",
      "metadata": {
        "execution": {
          "iopub.execute_input": "2021-01-20T11:17:47.720688Z",
          "iopub.status.busy": "2021-01-20T11:17:47.720051Z",
          "iopub.status.idle": "2021-01-20T11:17:48.068172Z",
          "shell.execute_reply": "2021-01-20T11:17:48.067589Z"
        },
        "papermill": {
          "duration": 0.600054,
          "end_time": "2021-01-20T11:17:48.068292",
          "exception": false,
          "start_time": "2021-01-20T11:17:47.468238",
          "status": "completed"
        },
        "tags": [],
        "colab": {
          "base_uri": "https://localhost:8080/",
          "height": 184
        },
        "id": "mTgWGS-f1RQ5",
        "outputId": "681a4447-bce6-4702-faf3-3cc95733dbd6"
      },
      "source": [
        "# Scaled each channel of RGB layer from 0 - 255 to 0 - 1\n",
        "train_imgs_scaled = train_imgs.astype('float32')\n",
        "validation_imgs_scaled = validation_imgs.astype('float32')\n",
        "\n",
        "train_imgs_scaled /= 255\n",
        "validation_imgs_scaled /= 255\n",
        "\n",
        "print(train_imgs[0].shape)\n",
        "array_to_img(train_imgs_scaled[0])"
      ],
      "execution_count": 58,
      "outputs": [
        {
          "output_type": "stream",
          "text": [
            "(150, 150, 3)\n"
          ],
          "name": "stdout"
        },
        {
          "output_type": "execute_result",
          "data": {
            "image/png": "[encoded data removed]",
            "text/plain": [
              "<PIL.Image.Image image mode=RGB size=150x150 at 0x7FEDCBEAC780>"
            ]
          },
          "metadata": {
            "tags": []
          },
          "execution_count": 58
        }
      ]
    },
    {
      "cell_type": "code",
      "metadata": {
        "execution": {
          "iopub.execute_input": "2021-01-20T11:17:48.464729Z",
          "iopub.status.busy": "2021-01-20T11:17:48.463606Z",
          "iopub.status.idle": "2021-01-20T11:17:49.905691Z",
          "shell.execute_reply": "2021-01-20T11:17:49.904203Z"
        },
        "papermill": {
          "duration": 1.654679,
          "end_time": "2021-01-20T11:17:49.905836",
          "exception": false,
          "start_time": "2021-01-20T11:17:48.251157",
          "status": "completed"
        },
        "tags": [],
        "colab": {
          "base_uri": "https://localhost:8080/"
        },
        "id": "biQBzjrX1RQ5",
        "outputId": "0108de95-d358-4519-ef1f-0b62cb454475"
      },
      "source": [
        "batch_size = 30\n",
        "num_classes = 2\n",
        "epochs = 30\n",
        "input_shape = (150,150,3)\n",
        "\n",
        "#encode text category labels\n",
        "\n",
        "from sklearn.preprocessing import LabelEncoder\n",
        "\n",
        "le = LabelEncoder()\n",
        "\n",
        "le.fit(train_labels)\n",
        "train_labels_enc = le.transform(train_labels)\n",
        "validation_labels_enc = le.transform(validation_labels)\n",
        "\n",
        "print(train_labels[1495:1505],train_labels_enc[1495:1505])"
      ],
      "execution_count": 59,
      "outputs": [
        {
          "output_type": "stream",
          "text": [
            "['dog', 'dog', 'dog', 'dog', 'cat', 'cat', 'dog', 'dog', 'dog', 'cat'] [1 1 1 1 0 0 1 1 1 0]\n"
          ],
          "name": "stdout"
        }
      ]
    },
    {
      "cell_type": "markdown",
      "metadata": {
        "papermill": {
          "duration": 0.263964,
          "end_time": "2021-01-20T11:17:50.462333",
          "exception": false,
          "start_time": "2021-01-20T11:17:50.198369",
          "status": "completed"
        },
        "tags": [],
        "id": "Qm3DPq6B1RQ6"
      },
      "source": [
        "![image.png](data:image/png;base64,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)"
      ]
    },
    {
      "cell_type": "code",
      "metadata": {
        "execution": {
          "iopub.execute_input": "2021-01-20T11:17:51.042161Z",
          "iopub.status.busy": "2021-01-20T11:17:51.040017Z",
          "iopub.status.idle": "2021-01-20T11:17:51.045944Z",
          "shell.execute_reply": "2021-01-20T11:17:51.046639Z"
        },
        "papermill": {
          "duration": 0.299167,
          "end_time": "2021-01-20T11:17:51.046908",
          "exception": false,
          "start_time": "2021-01-20T11:17:50.747741",
          "status": "completed"
        },
        "tags": [],
        "id": "qD5tRJXz1RRA"
      },
      "source": [
        "import tensorflow as tf\n",
        "from tensorflow import keras\n",
        "from tensorflow.keras.layers import Conv2D,MaxPooling2D,Flatten,Dense,Dropout\n",
        "from tensorflow.keras.models import Sequential\n",
        "from tensorflow.keras import optimizers"
      ],
      "execution_count": 60,
      "outputs": []
    },
    {
      "cell_type": "code",
      "metadata": {
        "execution": {
          "iopub.execute_input": "2021-01-20T11:17:51.624554Z",
          "iopub.status.busy": "2021-01-20T11:17:51.623694Z",
          "iopub.status.idle": "2021-01-20T11:17:51.970834Z",
          "shell.execute_reply": "2021-01-20T11:17:51.971746Z"
        },
        "papermill": {
          "duration": 0.642131,
          "end_time": "2021-01-20T11:17:51.972012",
          "exception": false,
          "start_time": "2021-01-20T11:17:51.329881",
          "status": "completed"
        },
        "tags": [],
        "id": "6THtD_mB1RRF"
      },
      "source": [
        "def create_model():\n",
        "  model = Sequential()\n",
        "  model.add(Conv2D(16,kernel_size=(3,3),activation='relu',input_shape=input_shape))\n",
        "  model .add(MaxPooling2D(pool_size=(2,2)))\n",
        "  model.add(Conv2D(64,kernel_size=(3,3),activation='relu'))\n",
        "  model.add(MaxPooling2D(pool_size=(2,2)))\n",
        "  model.add(Conv2D(128, kernel_size=(3, 3), activation='relu'))\n",
        "  model.add(MaxPooling2D(pool_size=(2, 2)))\n",
        "  model.add(Flatten())\n",
        "  model.add(Dense(512,activation='relu'))\n",
        "  model.add(Dense(1,activation='sigmoid'))\n",
        "  model.compile(loss='binary_crossentropy',optimizer=optimizers.RMSprop(),metrics=['accuracy'])\n",
        "  model.summary()\n",
        "  return model"
      ],
      "execution_count": 67,
      "outputs": []
    },
    {
      "cell_type": "code",
      "metadata": {
        "id": "4jIhKllm6eHK"
      },
      "source": [
        "def tpu_train_model(model_fun):\r\n",
        "  try:\r\n",
        "    tpu = tf.distribute.cluster_resolver.TPUClusterResolver()\r\n",
        "    tf.config.experimental_connect_to_cluster(tpu)\r\n",
        "    print(\"TPU found\")\r\n",
        "  except ValueError:\r\n",
        "   tpu = None\r\n",
        "   print(\"TPU Not Found\")\r\n",
        "  if tpu:\r\n",
        "   tf.tpu.experimental.initialize_tpu_system(tpu)\r\n",
        "   strategy = tf.distribute.TPUStrategy(tpu)\r\n",
        "   print('Running on TPU',tpu.cluster_spec().as_dict()['worker'])\r\n",
        "  else:\r\n",
        "   strategy = tf.distribute.get_strategy()\r\n",
        "   print(\"Running on CPU instead\")\r\n",
        "  with strategy.scope():\r\n",
        "    model = model_fun()\r\n",
        "    history = model.fit(x=train_imgs_scaled,y=train_labels_enc,validation_data=(validation_imgs_scaled,validation_labels_enc),\r\n",
        "                   batch_size=batch_size,\r\n",
        "                   epochs=epochs,\r\n",
        "                   verbose=1)\r\n",
        "  return history\r\n"
      ],
      "execution_count": 72,
      "outputs": []
    },
    {
      "cell_type": "code",
      "metadata": {
        "colab": {
          "base_uri": "https://localhost:8080/"
        },
        "id": "BvST-E0F7QVy",
        "outputId": "c1075c22-f4a4-4057-e5a0-99d5448182e3"
      },
      "source": [
        "history = tpu_train_model(create_model)"
      ],
      "execution_count": null,
      "outputs": [
        {
          "output_type": "stream",
          "text": [
            "TPU found\n",
            "WARNING:tensorflow:TPU system grpc://10.31.136.130:8470 has already been initialized. Reinitializing the TPU can cause previously created variables on TPU to be lost.\n"
          ],
          "name": "stdout"
        },
        {
          "output_type": "stream",
          "text": [
            "WARNING:tensorflow:TPU system grpc://10.31.136.130:8470 has already been initialized. Reinitializing the TPU can cause previously created variables on TPU to be lost.\n"
          ],
          "name": "stderr"
        },
        {
          "output_type": "stream",
          "text": [
            "INFO:tensorflow:Initializing the TPU system: grpc://10.31.136.130:8470\n"
          ],
          "name": "stdout"
        },
        {
          "output_type": "stream",
          "text": [
            "INFO:tensorflow:Initializing the TPU system: grpc://10.31.136.130:8470\n"
          ],
          "name": "stderr"
        },
        {
          "output_type": "stream",
          "text": [
            "INFO:tensorflow:Clearing out eager caches\n"
          ],
          "name": "stdout"
        },
        {
          "output_type": "stream",
          "text": [
            "INFO:tensorflow:Clearing out eager caches\n"
          ],
          "name": "stderr"
        },
        {
          "output_type": "stream",
          "text": [
            "INFO:tensorflow:Finished initializing TPU system.\n"
          ],
          "name": "stdout"
        },
        {
          "output_type": "stream",
          "text": [
            "INFO:tensorflow:Finished initializing TPU system.\n"
          ],
          "name": "stderr"
        },
        {
          "output_type": "stream",
          "text": [
            "INFO:tensorflow:Found TPU system:\n"
          ],
          "name": "stdout"
        },
        {
          "output_type": "stream",
          "text": [
            "INFO:tensorflow:Found TPU system:\n"
          ],
          "name": "stderr"
        },
        {
          "output_type": "stream",
          "text": [
            "INFO:tensorflow:*** Num TPU Cores: 8\n"
          ],
          "name": "stdout"
        },
        {
          "output_type": "stream",
          "text": [
            "INFO:tensorflow:*** Num TPU Cores: 8\n"
          ],
          "name": "stderr"
        },
        {
          "output_type": "stream",
          "text": [
            "INFO:tensorflow:*** Num TPU Workers: 1\n"
          ],
          "name": "stdout"
        },
        {
          "output_type": "stream",
          "text": [
            "INFO:tensorflow:*** Num TPU Workers: 1\n"
          ],
          "name": "stderr"
        },
        {
          "output_type": "stream",
          "text": [
            "INFO:tensorflow:*** Num TPU Cores Per Worker: 8\n"
          ],
          "name": "stdout"
        },
        {
          "output_type": "stream",
          "text": [
            "INFO:tensorflow:*** Num TPU Cores Per Worker: 8\n"
          ],
          "name": "stderr"
        },
        {
          "output_type": "stream",
          "text": [
            "INFO:tensorflow:*** Available Device: _DeviceAttributes(/job:localhost/replica:0/task:0/device:CPU:0, CPU, 0, 0)\n"
          ],
          "name": "stdout"
        },
        {
          "output_type": "stream",
          "text": [
            "INFO:tensorflow:*** Available Device: _DeviceAttributes(/job:localhost/replica:0/task:0/device:CPU:0, CPU, 0, 0)\n"
          ],
          "name": "stderr"
        },
        {
          "output_type": "stream",
          "text": [
            "INFO:tensorflow:*** Available Device: _DeviceAttributes(/job:worker/replica:0/task:0/device:CPU:0, CPU, 0, 0)\n"
          ],
          "name": "stdout"
        },
        {
          "output_type": "stream",
          "text": [
            "INFO:tensorflow:*** Available Device: _DeviceAttributes(/job:worker/replica:0/task:0/device:CPU:0, CPU, 0, 0)\n"
          ],
          "name": "stderr"
        },
        {
          "output_type": "stream",
          "text": [
            "INFO:tensorflow:*** Available Device: _DeviceAttributes(/job:worker/replica:0/task:0/device:TPU:0, TPU, 0, 0)\n"
          ],
          "name": "stdout"
        },
        {
          "output_type": "stream",
          "text": [
            "INFO:tensorflow:*** Available Device: _DeviceAttributes(/job:worker/replica:0/task:0/device:TPU:0, TPU, 0, 0)\n"
          ],
          "name": "stderr"
        },
        {
          "output_type": "stream",
          "text": [
            "INFO:tensorflow:*** Available Device: _DeviceAttributes(/job:worker/replica:0/task:0/device:TPU:1, TPU, 0, 0)\n"
          ],
          "name": "stdout"
        },
        {
          "output_type": "stream",
          "text": [
            "INFO:tensorflow:*** Available Device: _DeviceAttributes(/job:worker/replica:0/task:0/device:TPU:1, TPU, 0, 0)\n"
          ],
          "name": "stderr"
        },
        {
          "output_type": "stream",
          "text": [
            "INFO:tensorflow:*** Available Device: _DeviceAttributes(/job:worker/replica:0/task:0/device:TPU:2, TPU, 0, 0)\n"
          ],
          "name": "stdout"
        },
        {
          "output_type": "stream",
          "text": [
            "INFO:tensorflow:*** Available Device: _DeviceAttributes(/job:worker/replica:0/task:0/device:TPU:2, TPU, 0, 0)\n"
          ],
          "name": "stderr"
        },
        {
          "output_type": "stream",
          "text": [
            "INFO:tensorflow:*** Available Device: _DeviceAttributes(/job:worker/replica:0/task:0/device:TPU:3, TPU, 0, 0)\n"
          ],
          "name": "stdout"
        },
        {
          "output_type": "stream",
          "text": [
            "INFO:tensorflow:*** Available Device: _DeviceAttributes(/job:worker/replica:0/task:0/device:TPU:3, TPU, 0, 0)\n"
          ],
          "name": "stderr"
        },
        {
          "output_type": "stream",
          "text": [
            "INFO:tensorflow:*** Available Device: _DeviceAttributes(/job:worker/replica:0/task:0/device:TPU:4, TPU, 0, 0)\n"
          ],
          "name": "stdout"
        },
        {
          "output_type": "stream",
          "text": [
            "INFO:tensorflow:*** Available Device: _DeviceAttributes(/job:worker/replica:0/task:0/device:TPU:4, TPU, 0, 0)\n"
          ],
          "name": "stderr"
        },
        {
          "output_type": "stream",
          "text": [
            "INFO:tensorflow:*** Available Device: _DeviceAttributes(/job:worker/replica:0/task:0/device:TPU:5, TPU, 0, 0)\n"
          ],
          "name": "stdout"
        },
        {
          "output_type": "stream",
          "text": [
            "INFO:tensorflow:*** Available Device: _DeviceAttributes(/job:worker/replica:0/task:0/device:TPU:5, TPU, 0, 0)\n"
          ],
          "name": "stderr"
        },
        {
          "output_type": "stream",
          "text": [
            "INFO:tensorflow:*** Available Device: _DeviceAttributes(/job:worker/replica:0/task:0/device:TPU:6, TPU, 0, 0)\n"
          ],
          "name": "stdout"
        },
        {
          "output_type": "stream",
          "text": [
            "INFO:tensorflow:*** Available Device: _DeviceAttributes(/job:worker/replica:0/task:0/device:TPU:6, TPU, 0, 0)\n"
          ],
          "name": "stderr"
        },
        {
          "output_type": "stream",
          "text": [
            "INFO:tensorflow:*** Available Device: _DeviceAttributes(/job:worker/replica:0/task:0/device:TPU:7, TPU, 0, 0)\n"
          ],
          "name": "stdout"
        },
        {
          "output_type": "stream",
          "text": [
            "INFO:tensorflow:*** Available Device: _DeviceAttributes(/job:worker/replica:0/task:0/device:TPU:7, TPU, 0, 0)\n"
          ],
          "name": "stderr"
        },
        {
          "output_type": "stream",
          "text": [
            "INFO:tensorflow:*** Available Device: _DeviceAttributes(/job:worker/replica:0/task:0/device:TPU_SYSTEM:0, TPU_SYSTEM, 0, 0)\n"
          ],
          "name": "stdout"
        },
        {
          "output_type": "stream",
          "text": [
            "INFO:tensorflow:*** Available Device: _DeviceAttributes(/job:worker/replica:0/task:0/device:TPU_SYSTEM:0, TPU_SYSTEM, 0, 0)\n"
          ],
          "name": "stderr"
        },
        {
          "output_type": "stream",
          "text": [
            "INFO:tensorflow:*** Available Device: _DeviceAttributes(/job:worker/replica:0/task:0/device:XLA_CPU:0, XLA_CPU, 0, 0)\n"
          ],
          "name": "stdout"
        },
        {
          "output_type": "stream",
          "text": [
            "INFO:tensorflow:*** Available Device: _DeviceAttributes(/job:worker/replica:0/task:0/device:XLA_CPU:0, XLA_CPU, 0, 0)\n"
          ],
          "name": "stderr"
        },
        {
          "output_type": "stream",
          "text": [
            "Running on TPU ['10.31.136.130:8470']\n",
            "Model: \"sequential_4\"\n",
            "_________________________________________________________________\n",
            "Layer (type)                 Output Shape              Param #   \n",
            "=================================================================\n",
            "conv2d_12 (Conv2D)           (None, 148, 148, 16)      448       \n",
            "_________________________________________________________________\n",
            "max_pooling2d_12 (MaxPooling (None, 74, 74, 16)        0         \n",
            "_________________________________________________________________\n",
            "conv2d_13 (Conv2D)           (None, 72, 72, 64)        9280      \n",
            "_________________________________________________________________\n",
            "max_pooling2d_13 (MaxPooling (None, 36, 36, 64)        0         \n",
            "_________________________________________________________________\n",
            "conv2d_14 (Conv2D)           (None, 34, 34, 128)       73856     \n",
            "_________________________________________________________________\n",
            "max_pooling2d_14 (MaxPooling (None, 17, 17, 128)       0         \n",
            "_________________________________________________________________\n",
            "flatten_4 (Flatten)          (None, 36992)             0         \n",
            "_________________________________________________________________\n",
            "dense_8 (Dense)              (None, 512)               18940416  \n",
            "_________________________________________________________________\n",
            "dense_9 (Dense)              (None, 1)                 513       \n",
            "=================================================================\n",
            "Total params: 19,024,513\n",
            "Trainable params: 19,024,513\n",
            "Non-trainable params: 0\n",
            "_________________________________________________________________\n",
            "Epoch 1/30\n"
          ],
          "name": "stdout"
        }
      ]
    },
    {
      "cell_type": "code",
      "metadata": {
        "execution": {
          "iopub.execute_input": "2021-01-20T11:17:52.358956Z",
          "iopub.status.busy": "2021-01-20T11:17:52.358031Z",
          "iopub.status.idle": "2021-01-20T11:55:00.848290Z",
          "shell.execute_reply": "2021-01-20T11:55:00.847222Z"
        },
        "papermill": {
          "duration": 2228.688121,
          "end_time": "2021-01-20T11:55:00.848447",
          "exception": false,
          "start_time": "2021-01-20T11:17:52.160326",
          "status": "completed"
        },
        "tags": [],
        "id": "ItldrubR1RRF"
      },
      "source": [
        "history = model.fit(x=train_imgs_scaled,y=train_labels_enc,validation_data=(validation_imgs_scaled,validation_labels_enc),\n",
        "                   batch_size=batch_size,\n",
        "                   epochs=epochs,\n",
        "                   verbose=1)"
      ],
      "execution_count": null,
      "outputs": []
    },
    {
      "cell_type": "code",
      "metadata": {
        "execution": {
          "iopub.execute_input": "2021-01-20T11:55:03.383225Z",
          "iopub.status.busy": "2021-01-20T11:55:03.381445Z",
          "iopub.status.idle": "2021-01-20T11:55:03.385991Z",
          "shell.execute_reply": "2021-01-20T11:55:03.386823Z"
        },
        "papermill": {
          "duration": 1.283021,
          "end_time": "2021-01-20T11:55:03.387035",
          "exception": false,
          "start_time": "2021-01-20T11:55:02.104014",
          "status": "completed"
        },
        "tags": [],
        "id": "msnOP8qq1RRK"
      },
      "source": [
        "def draw_graph(history,epochs):\n",
        "    \n",
        "    f,(ax1,ax2) = plt.subplots(1,2,figsize=(12,4))\n",
        "\n",
        "    t = f.suptitle('Basic CNN Performance',fontsize=12)\n",
        "\n",
        "    epoch_list = list(range(1,epochs+1))\n",
        "    ax1.plot(epoch_list,history.history['accuracy'],label='Train Accuracy')\n",
        "    ax1.plot(epoch_list,history.history['val_accuracy'],label='Validation Accuracy')\n",
        "    ax1.set_xticks(np.arange(0,epochs+1,5))\n",
        "    ax1.set_ylabel('Accuracy Value')\n",
        "    ax1.set_xlabel('Epoch')\n",
        "    ax1.set_title('Accuracy')\n",
        "    l1 = ax1.legend(loc=\"best\")\n",
        "\n",
        "    ax2.plot(epoch_list, history.history['loss'], label='Train Loss')\n",
        "    ax2.plot(epoch_list, history.history['val_loss'], label='Validation Loss')\n",
        "    ax2.set_xticks(np.arange(0, epochs+1 , 5))\n",
        "    ax2.set_ylabel('Loss Value')\n",
        "    ax2.set_xlabel('Epoch')\n",
        "    ax2.set_title('Loss')\n",
        "    l2 = ax2.legend(loc=\"best\")"
      ],
      "execution_count": null,
      "outputs": []
    },
    {
      "cell_type": "code",
      "metadata": {
        "execution": {
          "iopub.execute_input": "2021-01-20T11:55:06.238702Z",
          "iopub.status.busy": "2021-01-20T11:55:06.238069Z",
          "iopub.status.idle": "2021-01-20T11:55:06.619080Z",
          "shell.execute_reply": "2021-01-20T11:55:06.619481Z"
        },
        "papermill": {
          "duration": 1.657225,
          "end_time": "2021-01-20T11:55:06.619590",
          "exception": false,
          "start_time": "2021-01-20T11:55:04.962365",
          "status": "completed"
        },
        "tags": [],
        "id": "KBVocYYr1RRK"
      },
      "source": [
        "draw_graph(history,epochs)"
      ],
      "execution_count": null,
      "outputs": []
    },
    {
      "cell_type": "code",
      "metadata": {
        "execution": {
          "iopub.execute_input": "2021-01-20T11:55:09.065215Z",
          "iopub.status.busy": "2021-01-20T11:55:09.059610Z",
          "iopub.status.idle": "2021-01-20T12:31:07.857669Z",
          "shell.execute_reply": "2021-01-20T12:31:07.858506Z"
        },
        "papermill": {
          "duration": 2160.005187,
          "end_time": "2021-01-20T12:31:07.858679",
          "exception": false,
          "start_time": "2021-01-20T11:55:07.853492",
          "status": "completed"
        },
        "tags": [],
        "id": "Ffxlzcv41RRL"
      },
      "source": [
        "# Model shows over fitting after  2-3 epochs hence using regularization \"Drop-out\" in dense layer\n",
        "def create_model_with_reg():\n",
        "  model = Sequential()\n",
        "\n",
        "  model.add(Conv2D(16, kernel_size=(3, 3), activation='relu', \n",
        "                 input_shape=input_shape))\n",
        "  model.add(MaxPooling2D(pool_size=(2, 2)))\n",
        "\n",
        "  model.add(Conv2D(64, kernel_size=(3, 3), activation='relu'))\n",
        "  model.add(MaxPooling2D(pool_size=(2, 2)))\n",
        "\n",
        "  model.add(Conv2D(128, kernel_size=(3, 3), activation='relu'))\n",
        "  model.add(MaxPooling2D(pool_size=(2, 2)))\n",
        "\n",
        "  model.add(Conv2D(128, kernel_size=(3, 3), activation='relu'))\n",
        "  model.add(MaxPooling2D(pool_size=(2, 2)))\n",
        "\n",
        "  model.add(Flatten())\n",
        "  model.add(Dense(512, activation='relu'))\n",
        "  model.add(Dropout(0.3))\n",
        "  model.add(Dense(512, activation='relu'))\n",
        "  model.add(Dropout(0.3))\n",
        "  model.add(Dense(1, activation='sigmoid'))\n",
        "\n",
        "\n",
        "  model.compile(loss='binary_crossentropy',\n",
        "              optimizer=optimizers.RMSprop(),\n",
        "              metrics=['accuracy'])\n",
        "  return model\n",
        "              \n",
        "history               \n",
        "history = model.fit(x=train_imgs_scaled, y=train_labels_enc,\n",
        "                    validation_data=(validation_imgs_scaled, validation_labels_enc),\n",
        "                    batch_size=batch_size,\n",
        "                    epochs=epochs,\n",
        "                    verbose=1)  "
      ],
      "execution_count": null,
      "outputs": []
    },
    {
      "cell_type": "code",
      "metadata": {
        "execution": {
          "iopub.execute_input": "2021-01-20T12:31:12.921518Z",
          "iopub.status.busy": "2021-01-20T12:31:12.919291Z",
          "iopub.status.idle": "2021-01-20T12:31:13.328739Z",
          "shell.execute_reply": "2021-01-20T12:31:13.327234Z"
        },
        "papermill": {
          "duration": 2.997212,
          "end_time": "2021-01-20T12:31:13.329007",
          "exception": false,
          "start_time": "2021-01-20T12:31:10.331795",
          "status": "completed"
        },
        "tags": [],
        "id": "01QoROb01RRQ"
      },
      "source": [
        "draw_graph(history,epochs)"
      ],
      "execution_count": null,
      "outputs": []
    },
    {
      "cell_type": "code",
      "metadata": {
        "execution": {
          "iopub.execute_input": "2021-01-20T12:31:20.815933Z",
          "iopub.status.busy": "2021-01-20T12:31:20.810819Z",
          "iopub.status.idle": "2021-01-20T12:31:20.883821Z",
          "shell.execute_reply": "2021-01-20T12:31:20.883005Z"
        },
        "papermill": {
          "duration": 3.817542,
          "end_time": "2021-01-20T12:31:20.883968",
          "exception": false,
          "start_time": "2021-01-20T12:31:17.066426",
          "status": "completed"
        },
        "tags": [],
        "id": "Y_tPdmy31RRR"
      },
      "source": [
        "model.save(\"cats_dogs_basic_cnn.h5\")"
      ],
      "execution_count": null,
      "outputs": []
    },
    {
      "cell_type": "code",
      "metadata": {
        "execution": {
          "iopub.execute_input": "2021-01-20T12:31:25.789037Z",
          "iopub.status.busy": "2021-01-20T12:31:25.787952Z",
          "iopub.status.idle": "2021-01-20T12:31:25.794159Z",
          "shell.execute_reply": "2021-01-20T12:31:25.793204Z"
        },
        "papermill": {
          "duration": 2.503651,
          "end_time": "2021-01-20T12:31:25.794306",
          "exception": false,
          "start_time": "2021-01-20T12:31:23.290655",
          "status": "completed"
        },
        "tags": [],
        "id": "VDRTWh_h1RRR"
      },
      "source": [
        "#Image Augumentation\n",
        "train_datagen = ImageDataGenerator(rescale=1./255,zoom_range=0.3,rotation_range=50,\n",
        "                                  width_shift_range=0.2,height_shift_range=0.2,shear_range=0.2,\n",
        "                                  horizontal_flip=True,fill_mode='nearest')\n",
        "\n",
        "val_datagen = ImageDataGenerator(rescale=1./255)\n",
        "\n",
        "#zoom randomly by a factor of 0.3\n",
        "#rotate image randomly by 50 degrees\n",
        "#Translate image randomly horizontally and vertically by 0.2\n",
        "#apply shear-based transformation randomly \n",
        "#horizontal flipping\n",
        "#fill new pixels for image after the preceding the operation\n"
      ],
      "execution_count": null,
      "outputs": []
    },
    {
      "cell_type": "code",
      "metadata": {
        "execution": {
          "iopub.execute_input": "2021-01-20T12:31:32.713598Z",
          "iopub.status.busy": "2021-01-20T12:31:32.712941Z",
          "iopub.status.idle": "2021-01-20T12:31:33.924610Z",
          "shell.execute_reply": "2021-01-20T12:31:33.923696Z"
        },
        "papermill": {
          "duration": 4.407319,
          "end_time": "2021-01-20T12:31:33.924757",
          "exception": false,
          "start_time": "2021-01-20T12:31:29.517438",
          "status": "completed"
        },
        "tags": [],
        "id": "rE2pXnVv1RRR"
      },
      "source": [
        "#test image generator\n",
        "img_id = 500\n",
        "\n",
        "cat_generator = train_datagen.flow(train_imgs[img_id : img_id + 1],train_labels[img_id:img_id+1],batch_size=1)\n",
        "\n",
        "cat = [next(cat_generator) for i in range(0,5)]\n",
        "\n",
        "fig,ax = plt.subplots(1,5,figsize=(16,6))\n",
        "print('Labels:',[item[1][0] for item in cat])\n",
        "l = [ax[i].imshow(cat[i][0][0]) for i in range(0,5)]"
      ],
      "execution_count": null,
      "outputs": []
    },
    {
      "cell_type": "code",
      "metadata": {
        "execution": {
          "iopub.execute_input": "2021-01-20T12:31:40.939874Z",
          "iopub.status.busy": "2021-01-20T12:31:40.939174Z",
          "iopub.status.idle": "2021-01-20T12:31:41.863328Z",
          "shell.execute_reply": "2021-01-20T12:31:41.862638Z"
        },
        "papermill": {
          "duration": 4.034605,
          "end_time": "2021-01-20T12:31:41.863443",
          "exception": false,
          "start_time": "2021-01-20T12:31:37.828838",
          "status": "completed"
        },
        "tags": [],
        "id": "ZW1TPBkQ1RRS"
      },
      "source": [
        "img_id = 1991\n",
        "dog_generator = train_datagen.flow(train_imgs[img_id:img_id+1], train_labels[img_id:img_id+1],\n",
        "                                   batch_size=1)\n",
        "dog = [next(dog_generator) for i in range(0,5)]\n",
        "fig, ax = plt.subplots(1,5, figsize=(15, 6))\n",
        "print('Labels:', [item[1][0] for item in dog])\n",
        "l = [ax[i].imshow(dog[i][0][0]) for i in range(0,5)]"
      ],
      "execution_count": null,
      "outputs": []
    },
    {
      "cell_type": "code",
      "metadata": {
        "execution": {
          "iopub.execute_input": "2021-01-20T12:31:48.612222Z",
          "iopub.status.busy": "2021-01-20T12:31:48.605558Z",
          "iopub.status.idle": "2021-01-20T14:28:42.371032Z",
          "shell.execute_reply": "2021-01-20T14:28:42.370350Z"
        },
        "papermill": {
          "duration": 7017.610374,
          "end_time": "2021-01-20T14:28:42.371192",
          "exception": false,
          "start_time": "2021-01-20T12:31:44.760818",
          "status": "completed"
        },
        "tags": [],
        "id": "rEj0ryh81RRS"
      },
      "source": [
        "# training\n",
        "\n",
        "train_generator = train_datagen.flow(train_imgs,train_labels_enc,batch_size=30)\n",
        "val_generator = val_datagen.flow(validation_imgs,validation_labels_enc,batch_size=20)\n",
        "input_shape=(150,150,3)\n",
        "\n",
        "def get_model():\n",
        "    model = Sequential()\n",
        "\n",
        "    model.add(Conv2D(16, kernel_size=(3, 3), activation='relu', \n",
        "                 input_shape=input_shape))\n",
        "    \n",
        "    model.add(MaxPooling2D(pool_size=(2, 2)))\n",
        "\n",
        "    model.add(Conv2D(64, kernel_size=(3, 3), activation='relu'))\n",
        "    \n",
        "    model.add(MaxPooling2D(pool_size=(2, 2)))\n",
        "\n",
        "    model.add(Conv2D(128, kernel_size=(3, 3), activation='relu'))\n",
        "    \n",
        "    model.add(MaxPooling2D(pool_size=(2, 2)))\n",
        "\n",
        "    model.add(Conv2D(128, kernel_size=(3, 3), activation='relu'))\n",
        "    \n",
        "    model.add(MaxPooling2D(pool_size=(2, 2)))\n",
        "\n",
        "    model.add(Flatten())\n",
        "    \n",
        "    model.add(Dense(512, activation='relu'))\n",
        "    \n",
        "    model.add(Dropout(0.3))\n",
        "    \n",
        "    model.add(Dense(512, activation='relu'))\n",
        "    \n",
        "    model.add(Dropout(0.3))\n",
        "    \n",
        "    model.add(Dense(1, activation='sigmoid'))\n",
        "    \n",
        "    return model\n",
        "\n",
        "model = get_model()\n",
        "\n",
        "model.compile(loss='binary_crossentropy',optimizer=optimizers.RMSprop(lr=1e-4),metrics=['accuracy'])\n",
        "\n",
        "history = model.fit_generator(train_generator,steps_per_epoch=100,epochs=100,validation_data=val_generator,\n",
        "                              validation_steps=50,verbose=1)"
      ],
      "execution_count": null,
      "outputs": []
    },
    {
      "cell_type": "code",
      "metadata": {
        "execution": {
          "iopub.execute_input": "2021-01-20T14:28:54.378924Z",
          "iopub.status.busy": "2021-01-20T14:28:54.377676Z",
          "iopub.status.idle": "2021-01-20T14:28:55.078351Z",
          "shell.execute_reply": "2021-01-20T14:28:55.079232Z"
        },
        "papermill": {
          "duration": 6.754668,
          "end_time": "2021-01-20T14:28:55.079417",
          "exception": false,
          "start_time": "2021-01-20T14:28:48.324749",
          "status": "completed"
        },
        "tags": [],
        "id": "RtTZR-3g1RSB"
      },
      "source": [
        "draw_graph(history,100)"
      ],
      "execution_count": null,
      "outputs": []
    },
    {
      "cell_type": "code",
      "metadata": {
        "execution": {
          "iopub.execute_input": "2021-01-20T14:29:07.958255Z",
          "iopub.status.busy": "2021-01-20T14:29:07.957050Z",
          "iopub.status.idle": "2021-01-20T14:29:08.028310Z",
          "shell.execute_reply": "2021-01-20T14:29:08.027409Z"
        },
        "papermill": {
          "duration": 6.039251,
          "end_time": "2021-01-20T14:29:08.028448",
          "exception": false,
          "start_time": "2021-01-20T14:29:01.989197",
          "status": "completed"
        },
        "tags": [],
        "id": "lpRyJ4SX1RSV"
      },
      "source": [
        "model.save('cats_dogs_cnn_img_aug.h5')"
      ],
      "execution_count": null,
      "outputs": []
    },
    {
      "cell_type": "markdown",
      "metadata": {
        "papermill": {
          "duration": 7.383891,
          "end_time": "2021-01-20T14:29:22.240676",
          "exception": false,
          "start_time": "2021-01-20T14:29:14.856785",
          "status": "completed"
        },
        "tags": [],
        "id": "ELdLetRp1RSV"
      },
      "source": [
        "# Transfer Learning using VGG16 Model"
      ]
    },
    {
      "cell_type": "code",
      "metadata": {
        "execution": {
          "iopub.execute_input": "2021-01-20T14:29:34.396206Z",
          "iopub.status.busy": "2021-01-20T14:29:34.395525Z",
          "iopub.status.idle": "2021-01-20T14:29:36.740534Z",
          "shell.execute_reply": "2021-01-20T14:29:36.739267Z"
        },
        "papermill": {
          "duration": 8.514017,
          "end_time": "2021-01-20T14:29:36.740675",
          "exception": false,
          "start_time": "2021-01-20T14:29:28.226658",
          "status": "completed"
        },
        "tags": [],
        "id": "GpwdlUvG1RSV"
      },
      "source": [
        "from tensorflow.keras.applications import vgg16\n",
        "from tensorflow.keras.models import Model\n",
        "import tensorflow.keras as keras\n",
        "\n",
        "vgg = vgg16.VGG16(include_top=False,weights='imagenet',input_shape=input_shape)"
      ],
      "execution_count": null,
      "outputs": []
    },
    {
      "cell_type": "code",
      "metadata": {
        "execution": {
          "iopub.execute_input": "2021-01-20T14:29:54.491828Z",
          "iopub.status.busy": "2021-01-20T14:29:54.486226Z",
          "iopub.status.idle": "2021-01-20T14:29:54.505991Z",
          "shell.execute_reply": "2021-01-20T14:29:54.505249Z"
        },
        "papermill": {
          "duration": 9.278138,
          "end_time": "2021-01-20T14:29:54.506148",
          "exception": false,
          "start_time": "2021-01-20T14:29:45.228010",
          "status": "completed"
        },
        "tags": [],
        "id": "0Y6dzwqB1RSW"
      },
      "source": [
        "output = vgg.layers[-1].output\n",
        "\n",
        "output = keras.layers.Flatten()(output)\n",
        "\n",
        "vgg_model = Model(vgg.input,output)\n",
        "\n",
        "vgg_model.trainable = False\n",
        "\n",
        "for layer in vgg_model.layers:\n",
        "    layer.trainable = False"
      ],
      "execution_count": null,
      "outputs": []
    },
    {
      "cell_type": "code",
      "metadata": {
        "execution": {
          "iopub.execute_input": "2021-01-20T14:30:12.361253Z",
          "iopub.status.busy": "2021-01-20T14:30:12.360335Z",
          "iopub.status.idle": "2021-01-20T14:30:12.420055Z",
          "shell.execute_reply": "2021-01-20T14:30:12.419244Z"
        },
        "papermill": {
          "duration": 9.107602,
          "end_time": "2021-01-20T14:30:12.420205",
          "exception": false,
          "start_time": "2021-01-20T14:30:03.312603",
          "status": "completed"
        },
        "tags": [],
        "id": "7hrijmM91RSW"
      },
      "source": [
        "import pandas as pd\n",
        "\n",
        "pd.set_option('max_colwidth',-1)\n",
        "layers = [(layer ,layer.name,layer.trainable)for layer in vgg_model.layers]\n",
        "pd.DataFrame(layers,columns=['Layer Type','Layer Name','Layer Trainable'])"
      ],
      "execution_count": null,
      "outputs": []
    },
    {
      "cell_type": "code",
      "metadata": {
        "execution": {
          "iopub.execute_input": "2021-01-20T14:30:25.604613Z",
          "iopub.status.busy": "2021-01-20T14:30:25.596317Z",
          "iopub.status.idle": "2021-01-20T14:30:26.178461Z",
          "shell.execute_reply": "2021-01-20T14:30:26.177885Z"
        },
        "papermill": {
          "duration": 6.532773,
          "end_time": "2021-01-20T14:30:26.178570",
          "exception": false,
          "start_time": "2021-01-20T14:30:19.645797",
          "status": "completed"
        },
        "tags": [],
        "id": "ZxSHjiBY1RSX"
      },
      "source": [
        "#bottleneck features - from block5_pool which is flattened\n",
        "bottleneck_feature_example = vgg.predict(train_imgs_scaled[0:1])\n",
        "print(bottleneck_feature_example.shape)\n",
        "plt.imshow(bottleneck_feature_example[0][:,:,0])"
      ],
      "execution_count": null,
      "outputs": []
    },
    {
      "cell_type": "code",
      "metadata": {
        "execution": {
          "iopub.execute_input": "2021-01-20T14:30:39.120689Z",
          "iopub.status.busy": "2021-01-20T14:30:39.119696Z",
          "iopub.status.idle": "2021-01-20T14:38:06.033530Z",
          "shell.execute_reply": "2021-01-20T14:38:06.034101Z"
        },
        "papermill": {
          "duration": 454.000227,
          "end_time": "2021-01-20T14:38:06.034251",
          "exception": false,
          "start_time": "2021-01-20T14:30:32.034024",
          "status": "completed"
        },
        "tags": [],
        "id": "40uDoYyY1RSX"
      },
      "source": [
        "def get_bottleneck_features(model,input_imgs):\n",
        "    features = model.predict(input_imgs,verbose=0)\n",
        "    return features\n",
        "\n",
        "train_features_vgg = get_bottleneck_features(vgg_model,train_imgs_scaled)\n",
        "validation_features_vgg = get_bottleneck_features(vgg_model,validation_imgs_scaled)\n",
        "\n",
        "print('Train Bottleneck Features:', train_features_vgg.shape, \n",
        "      '\\tValidation Bottleneck Features:', validation_features_vgg.shape)"
      ],
      "execution_count": null,
      "outputs": []
    },
    {
      "cell_type": "code",
      "metadata": {
        "execution": {
          "iopub.execute_input": "2021-01-20T14:38:18.669375Z",
          "iopub.status.busy": "2021-01-20T14:38:18.663625Z",
          "iopub.status.idle": "2021-01-20T14:38:18.756767Z",
          "shell.execute_reply": "2021-01-20T14:38:18.755963Z"
        },
        "papermill": {
          "duration": 6.782548,
          "end_time": "2021-01-20T14:38:18.756932",
          "exception": false,
          "start_time": "2021-01-20T14:38:11.974384",
          "status": "completed"
        },
        "tags": [],
        "id": "GT4ewwdO1RSY"
      },
      "source": [
        "from tensorflow.keras.layers import Conv2D,MaxPooling2D,Flatten,Dense,Dropout,InputLayer\n",
        "from tensorflow.keras.models import Sequential\n",
        "from tensorflow.keras import optimizers\n",
        "\n",
        "input_shape = vgg_model.output_shape[1]\n",
        "\n",
        "model = Sequential()\n",
        "model.add(InputLayer(input_shape=(input_shape,)))\n",
        "model.add(Dense(512,activation='relu',input_dim=input_shape))\n",
        "model.add(Dropout(0.3))\n",
        "model.add(Dropout(0.3))\n",
        "model.add(Dense(1, activation='sigmoid'))\n",
        "\n",
        "model.compile(loss='binary_crossentropy',\n",
        "              optimizer=optimizers.RMSprop(lr=1e-4),\n",
        "              metrics=['accuracy'])\n",
        "\n",
        "model.summary()"
      ],
      "execution_count": null,
      "outputs": []
    },
    {
      "cell_type": "code",
      "metadata": {
        "execution": {
          "iopub.execute_input": "2021-01-20T14:38:34.754748Z",
          "iopub.status.busy": "2021-01-20T14:38:34.699378Z",
          "iopub.status.idle": "2021-01-20T14:39:53.610274Z",
          "shell.execute_reply": "2021-01-20T14:39:53.609444Z"
        },
        "papermill": {
          "duration": 87.855612,
          "end_time": "2021-01-20T14:39:53.610439",
          "exception": false,
          "start_time": "2021-01-20T14:38:25.754827",
          "status": "completed"
        },
        "tags": [],
        "id": "Dn7JG9yz1RSY"
      },
      "source": [
        "history = model.fit(x=train_features_vgg, y=train_labels_enc,\n",
        "                    validation_data=(validation_features_vgg, validation_labels_enc),\n",
        "                    batch_size=batch_size,\n",
        "                    epochs=epochs,\n",
        "                    verbose=1)"
      ],
      "execution_count": null,
      "outputs": []
    },
    {
      "cell_type": "code",
      "metadata": {
        "execution": {
          "iopub.execute_input": "2021-01-20T14:40:13.043718Z",
          "iopub.status.busy": "2021-01-20T14:40:13.041642Z",
          "iopub.status.idle": "2021-01-20T14:40:13.469541Z",
          "shell.execute_reply": "2021-01-20T14:40:13.468754Z"
        },
        "papermill": {
          "duration": 10.00767,
          "end_time": "2021-01-20T14:40:13.469636",
          "exception": false,
          "start_time": "2021-01-20T14:40:03.461966",
          "status": "completed"
        },
        "tags": [],
        "id": "TqEUQG-W1RSv"
      },
      "source": [
        "draw_graph(history,epochs)\n",
        "model.save('cats_dogs_tlearn_basic_cnn.h5')"
      ],
      "execution_count": null,
      "outputs": []
    },
    {
      "cell_type": "markdown",
      "metadata": {
        "papermill": {
          "duration": 6.309236,
          "end_time": "2021-01-20T14:40:25.988495",
          "exception": false,
          "start_time": "2021-01-20T14:40:19.679259",
          "status": "completed"
        },
        "tags": [],
        "id": "eCTPzJfC1RSw"
      },
      "source": [
        "# With Image Augumentation"
      ]
    },
    {
      "cell_type": "code",
      "metadata": {
        "execution": {
          "iopub.execute_input": "2021-01-20T14:40:38.450469Z",
          "iopub.status.busy": "2021-01-20T14:40:38.449992Z",
          "iopub.status.idle": "2021-01-20T14:40:38.455375Z",
          "shell.execute_reply": "2021-01-20T14:40:38.454700Z"
        },
        "papermill": {
          "duration": 6.249134,
          "end_time": "2021-01-20T14:40:38.455494",
          "exception": false,
          "start_time": "2021-01-20T14:40:32.206360",
          "status": "completed"
        },
        "tags": [],
        "id": "aJ440A0E1RSx"
      },
      "source": [
        "train_datagen = ImageDataGenerator(rescale=1./255,zoom_range=0.3,rotation_range=50,\n",
        "                                  width_shift_range=0.2,height_shift_range=0.2,\n",
        "                                  shear_range=0.2,horizontal_flip=True,\n",
        "                                  fill_mode='nearest')\n",
        "val_datagen = ImageDataGenerator(rescale=1./255)\n",
        "\n",
        "train_generator = train_datagen.flow(train_imgs,train_labels_enc,batch_size=30)\n",
        "val_generator = val_datagen.flow(validation_imgs,validation_labels_enc,batch_size=20)"
      ],
      "execution_count": null,
      "outputs": []
    },
    {
      "cell_type": "code",
      "metadata": {
        "execution": {
          "iopub.execute_input": "2021-01-20T14:40:51.336819Z",
          "iopub.status.busy": "2021-01-20T14:40:51.335347Z",
          "iopub.status.idle": "2021-01-20T14:40:51.491656Z",
          "shell.execute_reply": "2021-01-20T14:40:51.491237Z"
        },
        "papermill": {
          "duration": 6.400533,
          "end_time": "2021-01-20T14:40:51.491747",
          "exception": false,
          "start_time": "2021-01-20T14:40:45.091214",
          "status": "completed"
        },
        "tags": [],
        "id": "jq1zpML-1RSx"
      },
      "source": [
        "model = Sequential()\n",
        "model.add(vgg_model)\n",
        "model.add(Dense(512, activation='relu', input_dim=input_shape))\n",
        "model.add(Dropout(0.3))\n",
        "model.add(Dense(512, activation='relu'))\n",
        "model.add(Dropout(0.3))\n",
        "model.add(Dense(1, activation='sigmoid'))\n",
        "\n",
        "model.compile(loss='binary_crossentropy',\n",
        "              optimizer=optimizers.RMSprop(lr=2e-5),\n",
        "              metrics=['accuracy'])\n",
        "\n",
        "model.summary()\n",
        "          "
      ],
      "execution_count": null,
      "outputs": []
    },
    {
      "cell_type": "code",
      "metadata": {
        "execution": {
          "iopub.execute_input": "2021-01-20T14:41:10.343976Z",
          "iopub.status.busy": "2021-01-20T14:41:10.342948Z"
        },
        "papermill": {
          "duration": null,
          "end_time": null,
          "exception": false,
          "start_time": "2021-01-20T14:41:00.992577",
          "status": "running"
        },
        "tags": [],
        "id": "FAyxNQCO1RSx"
      },
      "source": [
        "history = model.fit_generator(train_generator, steps_per_epoch=100, epochs=100,\n",
        "                              validation_data=val_generator, validation_steps=50, \n",
        "                              verbose=1)"
      ],
      "execution_count": null,
      "outputs": []
    },
    {
      "cell_type": "code",
      "metadata": {
        "papermill": {
          "duration": null,
          "end_time": null,
          "exception": null,
          "start_time": null,
          "status": "pending"
        },
        "tags": [],
        "id": "w6jdK1aA1RS8"
      },
      "source": [
        "draw_graph(history,100)\n",
        "model.save('cats_dogs_tlearn_img_aug_cnn.h5')"
      ],
      "execution_count": null,
      "outputs": []
    },
    {
      "cell_type": "code",
      "metadata": {
        "papermill": {
          "duration": null,
          "end_time": null,
          "exception": null,
          "start_time": null,
          "status": "pending"
        },
        "tags": [],
        "id": "eA80KSC81RS9"
      },
      "source": [
        "# Fine tuning\n",
        "vgg_model.trainable=True\n",
        "\n",
        "set_trainable=False\n",
        "\n",
        "for layer in vgg_model.layers:\n",
        "    if layer.name in ['block5_conv1','block4_conv1']:\n",
        "        set_trainable = True\n",
        "    if set_trainable:\n",
        "        layer.trainable = True\n",
        "    else:\n",
        "        layer.trainable = False\n",
        "layers = [(layer,layer.name,layer.trainable) for layer in vgg_model.layers]\n",
        "pd.DataFrame(layers,columns=['Layer Type','Layer Name','Layer Trainable'])"
      ],
      "execution_count": null,
      "outputs": []
    },
    {
      "cell_type": "code",
      "metadata": {
        "papermill": {
          "duration": null,
          "end_time": null,
          "exception": null,
          "start_time": null,
          "status": "pending"
        },
        "tags": [],
        "id": "PiTsBeeP1RS9"
      },
      "source": [
        "train_datagen = ImageDataGenerator(rescale=1./255, zoom_range=0.3, rotation_range=50,\n",
        "                                   width_shift_range=0.2, height_shift_range=0.2, shear_range=0.2, \n",
        "                                   horizontal_flip=True, fill_mode='nearest')\n",
        "val_datagen = ImageDataGenerator(rescale=1./255)\n",
        "train_generator = train_datagen.flow(train_imgs, train_labels_enc, batch_size=30)\n",
        "val_generator = val_datagen.flow(validation_imgs, validation_labels_enc, batch_size=20)"
      ],
      "execution_count": null,
      "outputs": []
    },
    {
      "cell_type": "code",
      "metadata": {
        "papermill": {
          "duration": null,
          "end_time": null,
          "exception": null,
          "start_time": null,
          "status": "pending"
        },
        "tags": [],
        "id": "bNLUwbtZ1RS9"
      },
      "source": [
        "model = Sequential()\n",
        "model.add(vgg_model)\n",
        "model.add(Dense(512, activation='relu', input_dim=input_shape))\n",
        "model.add(Dropout(0.3))\n",
        "model.add(Dense(512, activation='relu'))\n",
        "model.add(Dropout(0.3))\n",
        "model.add(Dense(1, activation='sigmoid'))\n",
        "\n",
        "model.compile(loss='binary_crossentropy',\n",
        "              optimizer=optimizers.RMSprop(lr=1e-5),\n",
        "              metrics=['accuracy'])\n",
        "\n",
        "model.summary()"
      ],
      "execution_count": null,
      "outputs": []
    },
    {
      "cell_type": "code",
      "metadata": {
        "papermill": {
          "duration": null,
          "end_time": null,
          "exception": null,
          "start_time": null,
          "status": "pending"
        },
        "tags": [],
        "id": "AGNmXcBW1RS9"
      },
      "source": [
        "history = model.fit_generator(train_generator, steps_per_epoch=100, epochs=100,\n",
        "                              validation_data=val_generator, validation_steps=50, \n",
        "                              verbose=1)\n",
        "\n",
        "draw_graph(history,100)\n",
        "model.save('cats_dogs_tlearn_finetune_img_aug_cnn.h5')"
      ],
      "execution_count": null,
      "outputs": []
    },
    {
      "cell_type": "markdown",
      "metadata": {
        "papermill": {
          "duration": null,
          "end_time": null,
          "exception": null,
          "start_time": null,
          "status": "pending"
        },
        "tags": [],
        "id": "TY5lHJUA1RS-"
      },
      "source": [
        "# Evaluating models using Test data"
      ]
    },
    {
      "cell_type": "code",
      "metadata": {
        "papermill": {
          "duration": null,
          "end_time": null,
          "exception": null,
          "start_time": null,
          "status": "pending"
        },
        "tags": [],
        "id": "-u4kPaBn1RS-"
      },
      "source": [
        "import glob\n",
        "import numpy as np\n",
        "import matplotlib.pyplot as plt\n",
        "from tensorflow.keras.preprocessing.image import load_img,img_to_array,array_to_img\n",
        "from tensorflow.keras.models import load_model\n",
        "import model_evaluation_utils as meu\n",
        "%matplotlib inline\n",
        "\n",
        "#load saved models\n",
        "\n",
        "basic_cnn = load_model('cats_dogs_basic_cnn.h5')\n",
        "img_aug_cnn = load_model('cats_dogs_cnn_img_aug.h5')\n",
        "tl_cnn = load_model('cats_dogs_tlearn_basic_cnn.h5')\n",
        "tl_img_aug_cnn = load_model('cats_dogs_tlearn_img_aug_cnn.h5')\n",
        "tl_img_aug_finetune_cnn = load_model('cats_dogs_tlearn_finetune_img_aug_cnn.h5')\n",
        "\n",
        "#loading configurations\n",
        "\n",
        "IMG_DIM = (150,150)\n",
        "input_shape = (150,150,3)\n",
        "\n",
        "num2class_label_transformer = lambda l : ['cat' if x == 0 else 'dog' for x in l]\n",
        "\n",
        "class2num_label_transformer = lambda l : [0 if x == 'cat' else 1 for x in l]\n",
        "\n",
        "#load VGG model for bottleneck features\n",
        "\n",
        "from tensorflow.keras.applications import vgg16\n",
        "from tensorflow.keras.models import Model\n",
        "import tensorflow.keras as keras\n",
        "\n",
        "vgg = vgg16.VGG16(include_top=False,weights='imagenet',input_shape=input_shape)\n",
        "\n",
        "output = vgg.layers[-1].output\n",
        "output = keras.layers.Flatten()(output)\n",
        "vgg_model = Model(vgg.input, output)\n",
        "vgg_model.trainable = False\n",
        "\n",
        "def get_bottleneck_features(model, input_imgs):\n",
        "    features = model.predict(input_imgs, verbose=0)\n",
        "    return features"
      ],
      "execution_count": null,
      "outputs": []
    },
    {
      "cell_type": "code",
      "metadata": {
        "papermill": {
          "duration": null,
          "end_time": null,
          "exception": null,
          "start_time": null,
          "status": "pending"
        },
        "tags": [],
        "id": "0fj7NMqT1RS-"
      },
      "source": [
        "IMG_DIM = (150,150)\n",
        "\n",
        "test_files = glob.glob('test_dir/*')\n",
        "test_imgs = [img_to_array(load_img(img,target_size=IMG_DIM)) for img in test_files]\n",
        "test_imgs = np.array(test_imgs)\n",
        "test_labels = [fn.split('/')[1].split('.')[0].strip() for fn in test_files]\n",
        "\n",
        "test_imgs_scaled = test_imgs.astype('float32')\n",
        "test_imgs_scaled /= 255\n",
        "test_labels_enc = class2num_label_transformer(test_labels)\n",
        "\n",
        "print('Test dataset shape:',test_imgs.shape)\n",
        "print(test_labels[0:5],test_labels_enc[0:5])"
      ],
      "execution_count": null,
      "outputs": []
    },
    {
      "cell_type": "code",
      "metadata": {
        "papermill": {
          "duration": null,
          "end_time": null,
          "exception": null,
          "start_time": null,
          "status": "pending"
        },
        "tags": [],
        "id": "LrAc_Hqf1RS-"
      },
      "source": [
        "#Basic CNN performance\n",
        "predictions = basic_cnn.predict_classes(test_imgs_scaled,verbose=0)\n",
        "predictions = num2class_label_transformer(predictions)\n",
        "meu.display_model_performance_metrics(true_labels=test_labels,predicted_labels=predictions,\n",
        "                                     classes = list(set(test_labels)))"
      ],
      "execution_count": null,
      "outputs": []
    },
    {
      "cell_type": "code",
      "metadata": {
        "papermill": {
          "duration": null,
          "end_time": null,
          "exception": null,
          "start_time": null,
          "status": "pending"
        },
        "tags": [],
        "id": "p_JA5sAX1RS-"
      },
      "source": [
        "#CNN with image augumentation performance\n",
        "predictions = img_aug_cnn.predict_classes(test_imgs_scaled, verbose=0)\n",
        "predictions = num2class_label_transformer(predictions)\n",
        "meu.display_model_performance_metrics(true_labels=test_labels, predicted_labels=predictions, \n",
        "                                      classes=list(set(test_labels)))"
      ],
      "execution_count": null,
      "outputs": []
    },
    {
      "cell_type": "code",
      "metadata": {
        "papermill": {
          "duration": null,
          "end_time": null,
          "exception": null,
          "start_time": null,
          "status": "pending"
        },
        "tags": [],
        "id": "zQESg7HE1RS_"
      },
      "source": [
        "#Transfer Learning — Pre-trained CNN as a Feature Extractor Performance\n",
        "test_bottleneck_features = get_bottleneck_features(vgg_model, test_imgs_scaled)\n",
        "\n",
        "predictions = tl_cnn.predict_classes(test_bottleneck_features, verbose=0)\n",
        "predictions = num2class_label_transformer(predictions)\n",
        "meu.display_model_performance_metrics(true_labels=test_labels, predicted_labels=predictions, \n",
        "                                      classes=list(set(test_labels)))"
      ],
      "execution_count": null,
      "outputs": []
    },
    {
      "cell_type": "code",
      "metadata": {
        "papermill": {
          "duration": null,
          "end_time": null,
          "exception": null,
          "start_time": null,
          "status": "pending"
        },
        "tags": [],
        "id": "MCRGHnil1RS_"
      },
      "source": [
        "# Transfer Learning — Pre-trained CNN as a Feature Extractor with Image Augmentation Performance\n",
        "predictions = tl_img_aug_cnn.predict_classes(test_imgs_scaled, verbose=0)\n",
        "predictions = num2class_label_transformer(predictions)\n",
        "meu.display_model_performance_metrics(true_labels=test_labels, predicted_labels=predictions, \n",
        "                                      classes=list(set(test_labels)))"
      ],
      "execution_count": null,
      "outputs": []
    },
    {
      "cell_type": "code",
      "metadata": {
        "papermill": {
          "duration": null,
          "end_time": null,
          "exception": null,
          "start_time": null,
          "status": "pending"
        },
        "tags": [],
        "id": "5iPac8XU1RS_"
      },
      "source": [
        "# ransfer Learning — Pre-trained CNN with Fine-tuning and Image Augmentation Performance\n",
        "predictions = tl_img_aug_finetune_cnn.predict_classes(test_imgs_scaled, verbose=0)\n",
        "predictions = num2class_label_transformer(predictions)\n",
        "meu.display_model_performance_metrics(true_labels=test_labels, predicted_labels=predictions, \n",
        "                                      classes=list(set(test_labels)))"
      ],
      "execution_count": null,
      "outputs": []
    },
    {
      "cell_type": "code",
      "metadata": {
        "papermill": {
          "duration": null,
          "end_time": null,
          "exception": null,
          "start_time": null,
          "status": "pending"
        },
        "tags": [],
        "id": "OZKgR9az1RS_"
      },
      "source": [
        "# worst model - basic CNN \n",
        "meu.plot_model_roc_curve(basic_cnn, test_imgs_scaled, \n",
        "                         true_labels=test_labels_enc, \n",
        "                         class_names=[0, 1]) \n",
        "\n",
        "# best model - transfer learning with fine-tuning & image augmentation \n",
        "meu.plot_model_roc_curve(tl_img_aug_finetune_cnn, test_imgs_scaled, \n",
        "                         true_labels=test_labels_enc, \n",
        "                         class_names=[0, 1])"
      ],
      "execution_count": null,
      "outputs": []
    }
  ]
}